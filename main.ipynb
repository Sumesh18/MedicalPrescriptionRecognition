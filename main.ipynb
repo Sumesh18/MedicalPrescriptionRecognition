{
 "cells": [
  {
   "cell_type": "code",
   "execution_count": null,
   "metadata": {},
   "outputs": [],
   "source": [
    "!git clone https://github.com/mindee/doctr.git\n",
    "\n",
    "!pip install -q tensorflow-addons\n",
    "\n",
    "!pip install -qe doctr/.\n",
    "\n",
    "!pip install python-doctr\n",
    "\n",
    "!pip install doctr\n",
    "\n",
    "from doctr.io import DocumentFile\n",
    "\n",
    "!pip install tf2onnx\n",
    "\n",
    "from doctr.models import ocr_predictor\n",
    "\n",
    "model = ocr_predictor(pretrained=True)\n",
    "\n",
    "document = DocumentFile.from_images(\"testy3.jpg\")\n",
    "result = model(document)\n",
    "json_response = result.export()\n",
    "\n",
    "json_response['pages']\n",
    "\n",
    "json_response['pages'][0]['blocks']\n",
    "\n",
    "for block in json_response['pages'][0]['blocks']:\n",
    "    for line in block['lines']:\n",
    "        for word in line['words']:\n",
    "            print(word['value'])\n",
    "\n"
   ]
  }
 ],
 "metadata": {
  "kernelspec": {
   "display_name": "cuda-gpt",
   "language": "python",
   "name": "cuda"
  },
  "language_info": {
   "name": "python",
   "version": "3.11.5"
  }
 },
 "nbformat": 4,
 "nbformat_minor": 2
}
